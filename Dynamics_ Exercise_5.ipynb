{
 "cells": [
  {
   "cell_type": "markdown",
   "id": "8ad54111",
   "metadata": {},
   "source": [
    "### Symbolic Computation of Robot Dynamics by using recursive Newton-Euler Formulation\n"
   ]
  },
  {
   "cell_type": "code",
   "execution_count": 1,
   "id": "53078b45",
   "metadata": {},
   "outputs": [],
   "source": [
    "import sympy as sp\n",
    "\n"
   ]
  },
  {
   "cell_type": "code",
   "execution_count": 2,
   "id": "c1791979",
   "metadata": {},
   "outputs": [],
   "source": [
    "# Define symbolic variables\n",
    "l1, l2 = sp.symbols('l1 l2', real=True)\n",
    "q1, q2 = sp.symbols('q1 q2', real=True)\n",
    "q1_dot, q2_dot = sp.symbols('q1_D q2_D', real=True)\n",
    "q1_ddot, q2_ddot = sp.symbols('q1_DD q2_DD', real=True)\n",
    "g = sp.Symbol('g', real=True)\n",
    "\n",
    "# Define DH parameters\n",
    "a = [0, l1]\n",
    "alpha = [0, 0]\n",
    "theta = [q1, q2]\n",
    "d = [0, 0]"
   ]
  },
  {
   "cell_type": "code",
   "execution_count": 3,
   "id": "297ee00d",
   "metadata": {},
   "outputs": [],
   "source": [
    "# Transformation Matrices\n",
    "T01 = sp.Matrix([\n",
    "    [sp.cos(theta[0]), -sp.sin(theta[0]), 0, a[0]],\n",
    "    [sp.sin(theta[0]) * sp.cos(alpha[0]), sp.cos(theta[0]) * sp.cos(alpha[0]), -sp.sin(alpha[0]), -d[0] * sp.sin(alpha[0])],\n",
    "    [sp.sin(theta[0]) * sp.sin(alpha[0]), sp.cos(theta[0]) * sp.sin(alpha[0]), sp.cos(alpha[0]), d[0] * sp.cos(alpha[0])],\n",
    "    [0, 0, 0, 1]\n",
    "])\n",
    "T12 = sp.Matrix([\n",
    "    [sp.cos(theta[1]), -sp.sin(theta[1]), 0, a[1]],\n",
    "    [sp.sin(theta[1]) * sp.cos(alpha[1]), sp.cos(theta[1]) * sp.cos(alpha[1]), -sp.sin(alpha[1]), -d[1] * sp.sin(alpha[1])],\n",
    "    [sp.sin(theta[1]) * sp.sin(alpha[1]), sp.cos(theta[1]) * sp.sin(alpha[1]), sp.cos(alpha[1]), d[1] * sp.cos(alpha[1])],\n",
    "    [0, 0, 0, 1]\n",
    "])\n",
    "\n",
    "# Rotation Matrices\n",
    "R01 = T01[:3, :3]\n",
    "R12 = T12[:3, :3]\n",
    "\n",
    "# Translation Matrices\n",
    "L01 = T01[:3, 3]\n",
    "L12 = T12[:3, 3]"
   ]
  },
  {
   "cell_type": "code",
   "execution_count": 4,
   "id": "a4cc9f9f",
   "metadata": {},
   "outputs": [],
   "source": [
    "# Initializing Velocities\n",
    "v0 = sp.Matrix([0, 0, 0])\n",
    "w0 = sp.Matrix([0, 0, 0])\n",
    "\n",
    "# Velocities\n",
    "v1 = R01.T * v0 + R01.T * w0.cross(R01.T * L01)\n",
    "w1 = R01.T * w0 + sp.Matrix([0, 0, q1_dot])\n",
    "\n",
    "v2 = R12.T * v1 + R12.T * w1.cross(R12.T * L12)\n",
    "w2 = R12.T * w1 + sp.Matrix([0, 0, q2_dot])\n",
    "\n",
    "z1 = sp.Matrix([0, 0, 1])\n",
    "z2 = sp.Matrix([0, 0, 1])"
   ]
  },
  {
   "cell_type": "code",
   "execution_count": 5,
   "id": "29d1f434",
   "metadata": {},
   "outputs": [],
   "source": [
    "# Initializing Accelerations\n",
    "v0_dot = sp.Matrix([0, g, 0])\n",
    "w0_dot = sp.Matrix([0, 0, 0])\n",
    "\n",
    "# Accelerations\n",
    "v1_dot = R01.T * (v0_dot + w0_dot.cross(L01) + w0.cross(w0.cross(L01)))\n",
    "w1_dot = R01.T * w0_dot + z1 * q1_ddot + (R01.T * w0).cross(z1 * q1_dot)\n",
    "\n",
    "v2_dot = R12.T * (v1_dot + w1_dot.cross(L12) + w1.cross(w1.cross(L12)))\n",
    "w2_dot = R12.T * w1_dot + z2 * q2_ddot + (R12.T * w1).cross(z2 * q2_dot)\n"
   ]
  },
  {
   "cell_type": "code",
   "execution_count": 6,
   "id": "0f5ea83d",
   "metadata": {},
   "outputs": [],
   "source": [
    "# Define mass and inertia parameters\n",
    "M_1, M_2 = sp.symbols('M_1 M_2', real=True)\n",
    "MX_1, MX_2 = sp.symbols('MX_1 MX_2', real=True)\n",
    "XX_1, YY_1, ZZ_1 = sp.symbols('XX_1 YY_1 ZZ_1', real=True)\n",
    "XX_2, YY_2, ZZ_2 = sp.symbols('XX_2 YY_2 ZZ_2', real=True)"
   ]
  },
  {
   "cell_type": "code",
   "execution_count": 7,
   "id": "324f3267",
   "metadata": {},
   "outputs": [],
   "source": [
    "# For 2nd joint\n",
    "MS_2 = sp.Matrix([MX_2, 0, 0])\n",
    "I_O_2 = sp.Matrix([[XX_2, 0, 0], [0, YY_2, 0], [0, 0, ZZ_2]])\n",
    "forces_2 = M_2 * v2_dot + w2_dot.cross(MS_2) + w2.cross(w2.cross(MS_2))\n",
    "moments_2 = I_O_2 * w2_dot + MS_2.cross(v2_dot) + w2.cross(I_O_2 * w2)\n",
    "Tau_2 = sp.simplify(moments_2.T * sp.Matrix([0, 0, 1]))\n"
   ]
  },
  {
   "cell_type": "code",
   "execution_count": 8,
   "id": "fe3c8770",
   "metadata": {},
   "outputs": [],
   "source": [
    "# For 1st joint\n",
    "MS_1 = sp.Matrix([MX_1, 0, 0])\n",
    "I_O_1 = sp.Matrix([[XX_1, 0, 0], [0, YY_1, 0], [0, 0, ZZ_1]])\n",
    "forces_1 = M_1 * v1_dot + w1_dot.cross(MS_1) + w1.cross(w1.cross(MS_1)) + R12 * forces_2\n",
    "moments_1 = I_O_1 * w1_dot + MS_1.cross(v1_dot) + w1.cross(I_O_1 * w1) + (R12 * moments_2 + sp.Matrix([l1, 0, 0]).cross(R12 * forces_2))\n",
    "Tau_1 = sp.simplify(moments_1.T * sp.Matrix([0, 0, 1]))"
   ]
  },
  {
   "cell_type": "code",
   "execution_count": 9,
   "id": "a3ce89a2",
   "metadata": {},
   "outputs": [
    {
     "name": "stdout",
     "output_type": "stream",
     "text": [
      "Torque at Joint 1:\n"
     ]
    },
    {
     "data": {
      "text/latex": [
       "$\\displaystyle \\left[\\begin{matrix}MX_{1} g \\cos{\\left(q_{1} \\right)} + MX_{2} g \\cos{\\left(q_{1} + q_{2} \\right)} - 2 MX_{2} l_{1} q_{1 D} q_{2 D} \\sin{\\left(q_{2} \\right)} + 2 MX_{2} l_{1} q_{1 DD} \\cos{\\left(q_{2} \\right)} - MX_{2} l_{1} q_{2 D}^{2} \\sin{\\left(q_{2} \\right)} + MX_{2} l_{1} q_{2 DD} \\cos{\\left(q_{2} \\right)} + M_{2} g l_{1} \\cos{\\left(q_{1} \\right)} + M_{2} l_{1}^{2} q_{1 DD} + ZZ_{1} q_{1 DD} + ZZ_{2} q_{1 DD} + ZZ_{2} q_{2 DD}\\end{matrix}\\right]$"
      ],
      "text/plain": [
       "Matrix([[MX_1*g*cos(q1) + MX_2*g*cos(q1 + q2) - 2*MX_2*l1*q1_D*q2_D*sin(q2) + 2*MX_2*l1*q1_DD*cos(q2) - MX_2*l1*q2_D**2*sin(q2) + MX_2*l1*q2_DD*cos(q2) + M_2*g*l1*cos(q1) + M_2*l1**2*q1_DD + ZZ_1*q1_DD + ZZ_2*q1_DD + ZZ_2*q2_DD]])"
      ]
     },
     "execution_count": 9,
     "metadata": {},
     "output_type": "execute_result"
    }
   ],
   "source": [
    "# Display the torques\n",
    "print('Torque at Joint 1:')\n",
    "Tau_1"
   ]
  },
  {
   "cell_type": "code",
   "execution_count": 10,
   "id": "77334e1f",
   "metadata": {},
   "outputs": [
    {
     "name": "stdout",
     "output_type": "stream",
     "text": [
      "Torque at Joint 2:\n"
     ]
    },
    {
     "data": {
      "text/latex": [
       "$\\displaystyle \\left[\\begin{matrix}MX_{2} \\left(g \\cos{\\left(q_{1} + q_{2} \\right)} + l_{1} q_{1 D}^{2} \\sin{\\left(q_{2} \\right)} + l_{1} q_{1 DD} \\cos{\\left(q_{2} \\right)}\\right) + ZZ_{2} \\left(q_{1 DD} + q_{2 DD}\\right)\\end{matrix}\\right]$"
      ],
      "text/plain": [
       "Matrix([[MX_2*(g*cos(q1 + q2) + l1*q1_D**2*sin(q2) + l1*q1_DD*cos(q2)) + ZZ_2*(q1_DD + q2_DD)]])"
      ]
     },
     "execution_count": 10,
     "metadata": {},
     "output_type": "execute_result"
    }
   ],
   "source": [
    "print('Torque at Joint 2:')\n",
    "Tau_2"
   ]
  },
  {
   "cell_type": "code",
   "execution_count": null,
   "id": "97e08e29",
   "metadata": {},
   "outputs": [],
   "source": []
  }
 ],
 "metadata": {
  "kernelspec": {
   "display_name": "Python 3 (ipykernel)",
   "language": "python",
   "name": "python3"
  },
  "language_info": {
   "codemirror_mode": {
    "name": "ipython",
    "version": 3
   },
   "file_extension": ".py",
   "mimetype": "text/x-python",
   "name": "python",
   "nbconvert_exporter": "python",
   "pygments_lexer": "ipython3",
   "version": "3.11.5"
  }
 },
 "nbformat": 4,
 "nbformat_minor": 5
}
